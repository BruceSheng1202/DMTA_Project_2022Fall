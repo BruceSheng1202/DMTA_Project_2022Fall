{
 "cells": [
  {
   "cell_type": "code",
   "execution_count": 2,
   "metadata": {},
   "outputs": [],
   "source": [
    "import pandas as pd \n",
    "import numpy as np\n",
    "\n",
    "\n",
    "df = pd.read_csv('./OutlierDetection/OutlierDetection.csv')\n",
    "df_Nair = pd.read_excel('./OutlierDetection/奈尔(Nair)检验的临界值表.xlsx')\n",
    "df_Grubbs = pd.read_excel('./OutlierDetection/格拉布斯(Grubbs)检验的临界值表.xlsx')\n",
    "\n",
    "# 改变df_Nair和df_Grubbs的列名\n",
    "df_Nair.columns = ['n'] + df_Nair.columns[1: ].map(lambda x: float(x[6: ])).tolist()\n",
    "df_Grubbs.columns = ['n'] + df_Grubbs.columns[1: ].map(lambda x: float(x[6: ])).tolist()"
   ]
  },
  {
   "cell_type": "code",
   "execution_count": 3,
   "metadata": {},
   "outputs": [],
   "source": [
    "def outlier_detection(df, alpha, alpha_star, sigma, df_method, side='both'):\n",
    "    \"\"\"\n",
    "    奈尔(Nair)离群值检测\n",
    "    df: 要检测的数据DataFrame\n",
    "    alpha: 检出水平α\n",
    "    alpha_star: 剔除水平α*\n",
    "    sigma: 正态分布的标准差\n",
    "    df_method: 临界值表, 可以为Nair或者Grubbs\n",
    "    side: 'upper', 'lower', 'both'三者之一, 默认为'both'\n",
    "    \"\"\"\n",
    "    data = sorted(df.values.flatten())\n",
    "    if side == 'both':\n",
    "        while True:\n",
    "            n = len(data)\n",
    "            x_mean = np.mean(data)\n",
    "            R_upper = (data[-1] - x_mean) / sigma\n",
    "            R_lower = (x_mean - data[0]) / sigma\n",
    "            R_critical = df_method.loc[df_method['n']==n, (1 - alpha / 2)].item()\n",
    "            R_critical_star = df_method.loc[df_method['n']==n, (1 - alpha_star / 2)].item()\n",
    "\n",
    "            if R_upper > R_lower and R_upper > R_critical:\n",
    "                if R_upper > R_critical_star:\n",
    "                    print(f'{data[-1]}为统计离群值')\n",
    "                else:\n",
    "                    print(f'{data[-1]}为歧离值')\n",
    "                data = data[: -1]\n",
    "        \n",
    "\n",
    "            elif R_lower > R_upper and R_lower > R_critical:\n",
    "                if R_lower > R_critical_star:\n",
    "                    print(f'{data[0]}为统计离群值')\n",
    "                else:\n",
    "                    print(f'{data[0]}为歧离值')\n",
    "                data = data[1: ]\n",
    "\n",
    "            \n",
    "            elif R_lower == R_upper and R_upper > R_critical:\n",
    "                    if R_upper > R_critical_star:\n",
    "                        print(f'{data[-1]}为统计离群值')\n",
    "                    else:\n",
    "                        print(f'{data[-1]}为歧离值')\n",
    "                    if R_lower > R_critical_star:\n",
    "                        print(f'{data[0]}为统计离群值')\n",
    "                    else:\n",
    "                        print(f'{data[0]}为歧离值')\n",
    "                    data = data[1: -1]\n",
    "\n",
    "            else:\n",
    "                return pd.DataFrame(data, columns=df.columns)\n",
    "        \n",
    "    \n",
    "    if side == 'upper':\n",
    "        while True:\n",
    "            n = len(data)\n",
    "            x_mean = np.mean(data)\n",
    "            R_upper = (data[-1] - x_mean) / sigma\n",
    "            R_critical = df_method.loc[df_method['n']==n, (1 - alpha)].item()\n",
    "            R_critical_star = df_method.loc[df_method['n']==n, (1 - alpha_star)].item()\n",
    "\n",
    "            if R_upper > R_critical:\n",
    "                if R_upper > R_critical_star:\n",
    "                    print(f'{data[-1]}为统计离群值')\n",
    "                else:\n",
    "                    print(f'{data[-1]}为歧离值')\n",
    "                data = data[: -1]\n",
    "                continue\n",
    "\n",
    "            else:\n",
    "                return pd.DataFrame(data, columns=df.columns)\n",
    "    \n",
    "    if side == 'lower':\n",
    "        while True:\n",
    "            n = len(data)\n",
    "            x_mean = np.mean(data)\n",
    "            R_lower = (x_mean - data[0]) / sigma\n",
    "            R_critical = df_method.loc[df_method['n']==n, (1 - alpha)].item()\n",
    "            R_critical_star = df_method.loc[df_method['n']==n, (1 - alpha_star)].item()\n",
    "\n",
    "            if R_lower > R_critical:\n",
    "                if R_lower > R_critical_star:\n",
    "                    print(f'{data[0]}为统计离群值')\n",
    "                else:\n",
    "                    print(f'{data[0]}为歧离值')\n",
    "                data = data[1: ]\n",
    "                continue\n",
    "\n",
    "            else:\n",
    "                return pd.DataFrame(data, columns=df.columns)"
   ]
  },
  {
   "attachments": {},
   "cell_type": "markdown",
   "metadata": {},
   "source": [
    "## 使用Nair检验分别进行下侧、上侧以及双侧检验"
   ]
  },
  {
   "cell_type": "code",
   "execution_count": 4,
   "metadata": {},
   "outputs": [
    {
     "name": "stdout",
     "output_type": "stream",
     "text": [
      "lower:\n",
      "3.13为统计离群值\n",
      "3.49为歧离值\n",
      "下侧情形Nair检验检测出了两个正态样本离群值，一个为统计离群值，一个为歧离值\n",
      "upper:\n",
      "下侧情形Nair检验没有检测出正态样本离群值\n",
      "both:\n",
      "3.13为歧离值\n",
      "双侧情形Nair检验检测出了一个歧离值\n"
     ]
    }
   ],
   "source": [
    "print('lower:')\n",
    "df_nair_lower = outlier_detection(df=df, alpha=0.05, alpha_star=0.01, sigma=0.65, df_method=df_Nair, side='lower')\n",
    "print('下侧情形Nair检验检测出了两个正态样本离群值，一个为统计离群值，一个为歧离值')\n",
    "print('upper:')\n",
    "df_nair_upper = outlier_detection(df=df, alpha=0.05, alpha_star=0.01, sigma=0.65, df_method=df_Nair, side='upper')\n",
    "print('下侧情形Nair检验没有检测出正态样本离群值')\n",
    "print('both:')\n",
    "df_nair_both = outlier_detection(df=df, alpha=0.05, alpha_star=0.01, sigma=0.65, df_method=df_Nair, side='both')\n",
    "print('双侧情形Nair检验检测出了一个歧离值')"
   ]
  },
  {
   "attachments": {},
   "cell_type": "markdown",
   "metadata": {},
   "source": [
    "## 使用Grubbs检验分别进行下侧、上侧以及双侧检验"
   ]
  },
  {
   "cell_type": "code",
   "execution_count": 5,
   "metadata": {},
   "outputs": [
    {
     "name": "stdout",
     "output_type": "stream",
     "text": [
      "lower:\n",
      "3.13为统计离群值\n",
      "3.49为歧离值\n",
      "下侧情形Grubbs检验检测出了两个正态样本离群值，一个为统计离群值，一个为歧离值\n",
      "upper:\n",
      "下侧情形Grubbs检验没有检测出正态样本离群值\n",
      "both:\n",
      "3.13为统计离群值\n",
      "3.49为歧离值\n",
      "双侧情形Grubbs检验检测出了两个正态样本离群值，一个为统计离群值，一个为歧离值\n"
     ]
    }
   ],
   "source": [
    "print('lower:')\n",
    "df_grubbs_lower = outlier_detection(df=df, alpha=0.05, alpha_star=0.01, sigma=0.65, df_method=df_Grubbs, side='lower')\n",
    "print('下侧情形Grubbs检验检测出了两个正态样本离群值，一个为统计离群值，一个为歧离值')\n",
    "print('upper:')\n",
    "df_grubbs_upper = outlier_detection(df=df, alpha=0.05, alpha_star=0.01, sigma=0.65, df_method=df_Grubbs, side='upper')\n",
    "print('下侧情形Grubbs检验没有检测出正态样本离群值')\n",
    "print('both:')\n",
    "df_grubbs_both = outlier_detection(df=df, alpha=0.05, alpha_star=0.01, sigma=0.65, df_method=df_Grubbs, side='both')\n",
    "print('双侧情形Grubbs检验检测出了两个正态样本离群值，一个为统计离群值，一个为歧离值')"
   ]
  }
 ],
 "metadata": {
  "kernelspec": {
   "display_name": "DeepLearning",
   "language": "python",
   "name": "python3"
  },
  "language_info": {
   "codemirror_mode": {
    "name": "ipython",
    "version": 3
   },
   "file_extension": ".py",
   "mimetype": "text/x-python",
   "name": "python",
   "nbconvert_exporter": "python",
   "pygments_lexer": "ipython3",
   "version": "3.6.13"
  },
  "vscode": {
   "interpreter": {
    "hash": "42cc27f5a6c36577eca79f4721c34abb67162958417b94f4c20013378ef11f88"
   }
  }
 },
 "nbformat": 4,
 "nbformat_minor": 2
}
