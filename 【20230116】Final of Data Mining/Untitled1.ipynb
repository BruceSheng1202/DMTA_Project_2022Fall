{
 "cells": [
  {
   "cell_type": "code",
   "execution_count": 5,
   "id": "730f6ad3",
   "metadata": {},
   "outputs": [
    {
     "name": "stdout",
     "output_type": "stream",
     "text": [
      "             0         1\n",
      "0     5.179072  1.778581\n",
      "1     3.783727  2.994978\n",
      "2    -1.549238 -3.855951\n",
      "3     1.604354 -4.356962\n",
      "4    -1.358426 -5.279839\n",
      "...        ...       ...\n",
      "2995 -3.089152  1.736510\n",
      "2996 -6.466029  1.626626\n",
      "2997 -2.601298  1.172256\n",
      "2998 -8.556706 -6.996110\n",
      "2999  0.834154 -1.586381\n",
      "\n",
      "[3000 rows x 2 columns]\n"
     ]
    }
   ],
   "source": [
    "import numpy as np\n",
    "import matplotlib.pyplot as plt \n",
    "import pandas as pd \n",
    "#训练集\n",
    "dt_train = pd.read_csv('./数据/TrainingData.csv', usecols=['0', '1'])\n",
    "lb_train = pd.read_csv('./数据/TrainingLabels.csv', usecols=['0'])['0']\n",
    "#测试集\n",
    "dt_test = pd.read_csv('./数据/TestingData.csv', usecols=['0', '1'])\n",
    "lb_test = pd.read_csv('./数据/TestingLabels.csv', usecols=['0'])['0']\n",
    "#其中，dt表示数据，lb表示类标签"
   ]
  },
  {
   "cell_type": "markdown",
   "id": "39eb2c18",
   "metadata": {},
   "source": [
    "## 亲和力传播聚类"
   ]
  },
  {
   "cell_type": "code",
   "execution_count": 7,
   "id": "ae01b132",
   "metadata": {},
   "outputs": [
    {
     "data": {
      "image/png": "[encoded data removed]",
      "text/plain": [
       "<Figure size 432x288 with 1 Axes>"
      ]
     },
     "metadata": {
      "needs_background": "light"
     },
     "output_type": "display_data"
    }
   ],
   "source": [
    "# 亲和力传播聚类\n",
    "from numpy import unique\n",
    "from numpy import where\n",
    "from sklearn.datasets import make_classification\n",
    "from sklearn.cluster import AffinityPropagation\n",
    "from matplotlib import pyplot\n",
    "%matplotlib inline\n",
    "\n",
    "# 定义数据集\n",
    "X = dt_test.values\n",
    "# 定义模型\n",
    "model = AffinityPropagation(damping=0.9)\n",
    "# 匹配模型\n",
    "model.fit(X)\n",
    "# 为每个示例分配一个集群\n",
    "yhat = model.predict(X)\n",
    "# 检索唯一群集\n",
    "clusters = unique(yhat)\n",
    "# 为每个群集的样本创建散点图\n",
    "for cluster in clusters:\n",
    "    # 获取此群集的示例的行索引\n",
    "    row_ix = where(yhat == cluster)\n",
    "    # 创建这些样本的散布\n",
    "    pyplot.scatter(X[row_ix, 0], X[row_ix, 1])\n",
    "# 绘制散点图\n",
    "pyplot.show()"
   ]
  },
  {
   "cell_type": "code",
   "execution_count": null,
   "id": "ec23b5e6",
   "metadata": {},
   "outputs": [],
   "source": []
  }
 ],
 "metadata": {
  "kernelspec": {
   "display_name": "Python 3 (ipykernel)",
   "language": "python",
   "name": "python3"
  },
  "language_info": {
   "codemirror_mode": {
    "name": "ipython",
    "version": 3
   },
   "file_extension": ".py",
   "mimetype": "text/x-python",
   "name": "python",
   "nbconvert_exporter": "python",
   "pygments_lexer": "ipython3",
   "version": "3.9.12"
  }
 },
 "nbformat": 4,
 "nbformat_minor": 5
}
